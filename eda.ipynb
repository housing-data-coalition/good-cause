{
 "cells": [
  {
   "cell_type": "code",
   "execution_count": 1,
   "metadata": {},
   "outputs": [],
   "source": [
    "import pandas as pd"
   ]
  },
  {
   "cell_type": "code",
   "execution_count": 2,
   "metadata": {},
   "outputs": [],
   "source": [
    "df = pd.read_csv('data/all-bbls-eligibility_2024-06-24.csv').drop_duplicates()\n",
    "gce_df = pd.read_csv('data/likely-gce-bbls_2024-06-24.csv').drop_duplicates()"
   ]
  },
  {
   "cell_type": "code",
   "execution_count": 3,
   "metadata": {},
   "outputs": [
    {
     "data": {
      "text/html": [
       "<div>\n",
       "<style scoped>\n",
       "    .dataframe tbody tr th:only-of-type {\n",
       "        vertical-align: middle;\n",
       "    }\n",
       "\n",
       "    .dataframe tbody tr th {\n",
       "        vertical-align: top;\n",
       "    }\n",
       "\n",
       "    .dataframe thead th {\n",
       "        text-align: right;\n",
       "    }\n",
       "</style>\n",
       "<table border=\"1\" class=\"dataframe\">\n",
       "  <thead>\n",
       "    <tr style=\"text-align: right;\">\n",
       "      <th></th>\n",
       "      <th>unitsres</th>\n",
       "      <th>rs_units</th>\n",
       "    </tr>\n",
       "  </thead>\n",
       "  <tbody>\n",
       "    <tr>\n",
       "      <th>count</th>\n",
       "      <td>766617.000000</td>\n",
       "      <td>766617.000000</td>\n",
       "    </tr>\n",
       "    <tr>\n",
       "      <th>mean</th>\n",
       "      <td>4.810347</td>\n",
       "      <td>1.229195</td>\n",
       "    </tr>\n",
       "    <tr>\n",
       "      <th>std</th>\n",
       "      <td>35.737662</td>\n",
       "      <td>15.481830</td>\n",
       "    </tr>\n",
       "    <tr>\n",
       "      <th>min</th>\n",
       "      <td>1.000000</td>\n",
       "      <td>0.000000</td>\n",
       "    </tr>\n",
       "    <tr>\n",
       "      <th>25%</th>\n",
       "      <td>1.000000</td>\n",
       "      <td>0.000000</td>\n",
       "    </tr>\n",
       "    <tr>\n",
       "      <th>50%</th>\n",
       "      <td>2.000000</td>\n",
       "      <td>0.000000</td>\n",
       "    </tr>\n",
       "    <tr>\n",
       "      <th>75%</th>\n",
       "      <td>2.000000</td>\n",
       "      <td>0.000000</td>\n",
       "    </tr>\n",
       "    <tr>\n",
       "      <th>max</th>\n",
       "      <td>10914.000000</td>\n",
       "      <td>8770.000000</td>\n",
       "    </tr>\n",
       "  </tbody>\n",
       "</table>\n",
       "</div>"
      ],
      "text/plain": [
       "            unitsres       rs_units\n",
       "count  766617.000000  766617.000000\n",
       "mean        4.810347       1.229195\n",
       "std        35.737662      15.481830\n",
       "min         1.000000       0.000000\n",
       "25%         1.000000       0.000000\n",
       "50%         2.000000       0.000000\n",
       "75%         2.000000       0.000000\n",
       "max     10914.000000    8770.000000"
      ]
     },
     "execution_count": 3,
     "metadata": {},
     "output_type": "execute_result"
    }
   ],
   "source": [
    "df[['unitsres', 'rs_units']].describe()"
   ]
  },
  {
   "cell_type": "code",
   "execution_count": 4,
   "metadata": {},
   "outputs": [
    {
     "data": {
      "text/plain": [
       "bldgclass\n",
       "A1    0.160462\n",
       "A5    0.135897\n",
       "B1    0.111462\n",
       "B2    0.103676\n",
       "C0    0.094378\n",
       "        ...   \n",
       "CM    0.000001\n",
       "N1    0.000001\n",
       "P3    0.000001\n",
       "G6    0.000001\n",
       "RI    0.000001\n",
       "Name: proportion, Length: 154, dtype: float64"
      ]
     },
     "execution_count": 4,
     "metadata": {},
     "output_type": "execute_result"
    }
   ],
   "source": [
    "df['bldgclass'].value_counts(normalize=True)"
   ]
  },
  {
   "cell_type": "code",
   "execution_count": 5,
   "metadata": {},
   "outputs": [
    {
     "data": {
      "text/plain": [
       "154"
      ]
     },
     "execution_count": 5,
     "metadata": {},
     "output_type": "execute_result"
    }
   ],
   "source": [
    "df['bldgclass'].nunique()"
   ]
  },
  {
   "cell_type": "code",
   "execution_count": 7,
   "metadata": {},
   "outputs": [],
   "source": [
    "df['gce_likely'] = df['bbl'].isin(gce_df['bbl'])"
   ]
  },
  {
   "cell_type": "code",
   "execution_count": 8,
   "metadata": {},
   "outputs": [
    {
     "data": {
      "text/html": [
       "<div>\n",
       "<style scoped>\n",
       "    .dataframe tbody tr th:only-of-type {\n",
       "        vertical-align: middle;\n",
       "    }\n",
       "\n",
       "    .dataframe tbody tr th {\n",
       "        vertical-align: top;\n",
       "    }\n",
       "\n",
       "    .dataframe thead th {\n",
       "        text-align: right;\n",
       "    }\n",
       "</style>\n",
       "<table border=\"1\" class=\"dataframe\">\n",
       "  <thead>\n",
       "    <tr style=\"text-align: right;\">\n",
       "      <th></th>\n",
       "      <th>bbl</th>\n",
       "      <th>address</th>\n",
       "      <th>borough</th>\n",
       "      <th>unitsres</th>\n",
       "      <th>yearbuilt</th>\n",
       "      <th>bldgclass</th>\n",
       "      <th>ownername</th>\n",
       "      <th>rs_units</th>\n",
       "      <th>is_nycha</th>\n",
       "      <th>eligible_year</th>\n",
       "      <th>eligible_bbl_units</th>\n",
       "      <th>eligible_bldgclass</th>\n",
       "      <th>eligible_rentstab</th>\n",
       "      <th>eligible_nycha</th>\n",
       "      <th>is_subsidized</th>\n",
       "      <th>gce_likely</th>\n",
       "    </tr>\n",
       "  </thead>\n",
       "  <tbody>\n",
       "    <tr>\n",
       "      <th>0</th>\n",
       "      <td>2022630019</td>\n",
       "      <td>180 BROOK AVENUE</td>\n",
       "      <td>BX</td>\n",
       "      <td>1255</td>\n",
       "      <td>1956</td>\n",
       "      <td>D1</td>\n",
       "      <td>NYC HOUSING AUTHORITY</td>\n",
       "      <td>0</td>\n",
       "      <td>True</td>\n",
       "      <td>True</td>\n",
       "      <td>True</td>\n",
       "      <td>True</td>\n",
       "      <td>True</td>\n",
       "      <td>False</td>\n",
       "      <td>True</td>\n",
       "      <td>False</td>\n",
       "    </tr>\n",
       "    <tr>\n",
       "      <th>6</th>\n",
       "      <td>2031430155</td>\n",
       "      <td>2244 TIEBOUT AVENUE</td>\n",
       "      <td>BX</td>\n",
       "      <td>312</td>\n",
       "      <td>1931</td>\n",
       "      <td>D7</td>\n",
       "      <td>NYC HOUSING AUTHORITY</td>\n",
       "      <td>0</td>\n",
       "      <td>True</td>\n",
       "      <td>True</td>\n",
       "      <td>True</td>\n",
       "      <td>True</td>\n",
       "      <td>True</td>\n",
       "      <td>False</td>\n",
       "      <td>False</td>\n",
       "      <td>False</td>\n",
       "    </tr>\n",
       "    <tr>\n",
       "      <th>18</th>\n",
       "      <td>2035340001</td>\n",
       "      <td>2175 LACOMBE AVENUE</td>\n",
       "      <td>BX</td>\n",
       "      <td>583</td>\n",
       "      <td>1959</td>\n",
       "      <td>D1</td>\n",
       "      <td>NYC HOUSING AUTHORITY</td>\n",
       "      <td>0</td>\n",
       "      <td>True</td>\n",
       "      <td>True</td>\n",
       "      <td>True</td>\n",
       "      <td>True</td>\n",
       "      <td>True</td>\n",
       "      <td>False</td>\n",
       "      <td>True</td>\n",
       "      <td>False</td>\n",
       "    </tr>\n",
       "    <tr>\n",
       "      <th>22</th>\n",
       "      <td>2055640001</td>\n",
       "      <td>550 BALCOM AVENUE</td>\n",
       "      <td>BX</td>\n",
       "      <td>1020</td>\n",
       "      <td>1952</td>\n",
       "      <td>D3</td>\n",
       "      <td>NYC HOUSING AUTHORITY</td>\n",
       "      <td>0</td>\n",
       "      <td>True</td>\n",
       "      <td>True</td>\n",
       "      <td>True</td>\n",
       "      <td>True</td>\n",
       "      <td>True</td>\n",
       "      <td>False</td>\n",
       "      <td>True</td>\n",
       "      <td>False</td>\n",
       "    </tr>\n",
       "    <tr>\n",
       "      <th>58</th>\n",
       "      <td>3013730049</td>\n",
       "      <td>1521 STERLING PLACE</td>\n",
       "      <td>BK</td>\n",
       "      <td>31</td>\n",
       "      <td>1921</td>\n",
       "      <td>C1</td>\n",
       "      <td>NYC PACT PRESERVATION PARTNERS LLC</td>\n",
       "      <td>0</td>\n",
       "      <td>True</td>\n",
       "      <td>True</td>\n",
       "      <td>True</td>\n",
       "      <td>True</td>\n",
       "      <td>True</td>\n",
       "      <td>False</td>\n",
       "      <td>True</td>\n",
       "      <td>False</td>\n",
       "    </tr>\n",
       "  </tbody>\n",
       "</table>\n",
       "</div>"
      ],
      "text/plain": [
       "           bbl              address borough  unitsres  yearbuilt bldgclass  \\\n",
       "0   2022630019     180 BROOK AVENUE      BX      1255       1956        D1   \n",
       "6   2031430155  2244 TIEBOUT AVENUE      BX       312       1931        D7   \n",
       "18  2035340001  2175 LACOMBE AVENUE      BX       583       1959        D1   \n",
       "22  2055640001    550 BALCOM AVENUE      BX      1020       1952        D3   \n",
       "58  3013730049  1521 STERLING PLACE      BK        31       1921        C1   \n",
       "\n",
       "                             ownername  rs_units  is_nycha  eligible_year  \\\n",
       "0                NYC HOUSING AUTHORITY         0      True           True   \n",
       "6                NYC HOUSING AUTHORITY         0      True           True   \n",
       "18               NYC HOUSING AUTHORITY         0      True           True   \n",
       "22               NYC HOUSING AUTHORITY         0      True           True   \n",
       "58  NYC PACT PRESERVATION PARTNERS LLC         0      True           True   \n",
       "\n",
       "    eligible_bbl_units  eligible_bldgclass  eligible_rentstab  eligible_nycha  \\\n",
       "0                 True                True               True           False   \n",
       "6                 True                True               True           False   \n",
       "18                True                True               True           False   \n",
       "22                True                True               True           False   \n",
       "58                True                True               True           False   \n",
       "\n",
       "    is_subsidized  gce_likely  \n",
       "0            True       False  \n",
       "6           False       False  \n",
       "18           True       False  \n",
       "22           True       False  \n",
       "58           True       False  "
      ]
     },
     "execution_count": 8,
     "metadata": {},
     "output_type": "execute_result"
    }
   ],
   "source": [
    "df.head()"
   ]
  },
  {
   "cell_type": "code",
   "execution_count": 9,
   "metadata": {},
   "outputs": [],
   "source": [
    "df['pct_rs'] = df['rs_units']/df['unitsres']"
   ]
  },
  {
   "cell_type": "code",
   "execution_count": 10,
   "metadata": {},
   "outputs": [
    {
     "data": {
      "text/plain": [
       "count    747524.000000\n",
       "mean          0.015284\n",
       "std           0.104048\n",
       "min           0.000000\n",
       "25%           0.000000\n",
       "50%           0.000000\n",
       "75%           0.000000\n",
       "max           0.998569\n",
       "Name: pct_rs, dtype: float64"
      ]
     },
     "execution_count": 10,
     "metadata": {},
     "output_type": "execute_result"
    }
   ],
   "source": [
    "df.query(\"pct_rs < 1\")['pct_rs'].describe()"
   ]
  },
  {
   "cell_type": "code",
   "execution_count": 12,
   "metadata": {},
   "outputs": [
    {
     "data": {
      "text/plain": [
       "unitsres\n",
       "True     0.951449\n",
       "False    0.048551\n",
       "Name: proportion, dtype: float64"
      ]
     },
     "execution_count": 12,
     "metadata": {},
     "output_type": "execute_result"
    }
   ],
   "source": [
    "(df['unitsres'] < 11).value_counts(normalize=True)"
   ]
  },
  {
   "cell_type": "code",
   "execution_count": 13,
   "metadata": {},
   "outputs": [
    {
     "data": {
      "text/plain": [
       "unitsres\n",
       "True     729397\n",
       "False     37220\n",
       "Name: count, dtype: int64"
      ]
     },
     "execution_count": 13,
     "metadata": {},
     "output_type": "execute_result"
    }
   ],
   "source": [
    "(df['unitsres'] < 11).value_counts()"
   ]
  },
  {
   "cell_type": "code",
   "execution_count": 14,
   "metadata": {},
   "outputs": [
    {
     "name": "stdout",
     "output_type": "stream",
     "text": [
      "BX\n",
      "gce_likely\n",
      "False    74907\n",
      "True       792\n",
      "Name: count, dtype: int64\n",
      "gce_likely\n",
      "False    0.989538\n",
      "True     0.010462\n",
      "Name: proportion, dtype: float64\n",
      "BK\n",
      "gce_likely\n",
      "False    247918\n",
      "True       1431\n",
      "Name: count, dtype: int64\n",
      "gce_likely\n",
      "False    0.994261\n",
      "True     0.005739\n",
      "Name: proportion, dtype: float64\n",
      "MN\n",
      "gce_likely\n",
      "False    29325\n",
      "True      3153\n",
      "Name: count, dtype: int64\n",
      "gce_likely\n",
      "False    0.902919\n",
      "True     0.097081\n",
      "Name: proportion, dtype: float64\n",
      "QN\n",
      "gce_likely\n",
      "False    296651\n",
      "True        641\n",
      "Name: count, dtype: int64\n",
      "gce_likely\n",
      "False    0.997844\n",
      "True     0.002156\n",
      "Name: proportion, dtype: float64\n",
      "SI\n",
      "gce_likely\n",
      "False    111727\n",
      "True         72\n",
      "Name: count, dtype: int64\n",
      "gce_likely\n",
      "False    0.999356\n",
      "True     0.000644\n",
      "Name: proportion, dtype: float64\n"
     ]
    }
   ],
   "source": [
    "for boro in df['borough'].unique():\n",
    "    df_ = df.query('borough==@boro')\n",
    "    print(boro.upper())\n",
    "    print(df_['gce_likely'].value_counts())\n",
    "    print(df_['gce_likely'].value_counts(normalize=True))"
   ]
  },
  {
   "cell_type": "code",
   "execution_count": 19,
   "metadata": {},
   "outputs": [
    {
     "data": {
      "text/plain": [
       "borough\n",
       "MN    3153\n",
       "BK    1431\n",
       "BX     792\n",
       "QN     641\n",
       "SI      72\n",
       "Name: count, dtype: int64"
      ]
     },
     "execution_count": 19,
     "metadata": {},
     "output_type": "execute_result"
    }
   ],
   "source": [
    "gce_df['borough'].value_counts()"
   ]
  },
  {
   "cell_type": "code",
   "execution_count": 20,
   "metadata": {},
   "outputs": [
    {
     "data": {
      "text/plain": [
       "borough\n",
       "MN    0.517819\n",
       "BK    0.235014\n",
       "BX    0.130071\n",
       "QN    0.105272\n",
       "SI    0.011825\n",
       "Name: proportion, dtype: float64"
      ]
     },
     "execution_count": 20,
     "metadata": {},
     "output_type": "execute_result"
    }
   ],
   "source": [
    "gce_df['borough'].value_counts(normalize=True)"
   ]
  },
  {
   "cell_type": "code",
   "execution_count": 33,
   "metadata": {},
   "outputs": [
    {
     "data": {
      "text/plain": [
       "<Axes: >"
      ]
     },
     "execution_count": 33,
     "metadata": {},
     "output_type": "execute_result"
    },
    {
     "data": {
      "image/png": "[encoded data removed]",
      "text/plain": [
       "<Figure size 640x480 with 1 Axes>"
      ]
     },
     "metadata": {},
     "output_type": "display_data"
    }
   ],
   "source": [
    "gce_df.query(\"yearbuilt > 1800\")['yearbuilt'].hist()"
   ]
  },
  {
   "cell_type": "code",
   "execution_count": 30,
   "metadata": {},
   "outputs": [
    {
     "data": {
      "text/plain": [
       "<Axes: >"
      ]
     },
     "execution_count": 30,
     "metadata": {},
     "output_type": "execute_result"
    },
    {
     "data": {
      "image/png": "[encoded data removed]",
      "text/plain": [
       "<Figure size 640x480 with 1 Axes>"
      ]
     },
     "metadata": {},
     "output_type": "display_data"
    }
   ],
   "source": [
    "df.query(\"yearbuilt > 1800\")['yearbuilt'].hist()"
   ]
  },
  {
   "cell_type": "code",
   "execution_count": 35,
   "metadata": {},
   "outputs": [],
   "source": [
    "gce_df['gce_units'] = gce_df['unitsres'] - gce_df['rs_units']"
   ]
  },
  {
   "cell_type": "code",
   "execution_count": 36,
   "metadata": {},
   "outputs": [
    {
     "data": {
      "text/plain": [
       "count    6089.000000\n",
       "mean       49.231237\n",
       "std        81.126192\n",
       "min        11.000000\n",
       "25%        16.000000\n",
       "50%        24.000000\n",
       "75%        49.000000\n",
       "max      1887.000000\n",
       "Name: gce_units, dtype: float64"
      ]
     },
     "execution_count": 36,
     "metadata": {},
     "output_type": "execute_result"
    }
   ],
   "source": [
    "gce_df['gce_units'].describe()"
   ]
  },
  {
   "cell_type": "code",
   "execution_count": 37,
   "metadata": {},
   "outputs": [
    {
     "data": {
      "text/plain": [
       "np.int64(299769)"
      ]
     },
     "execution_count": 37,
     "metadata": {},
     "output_type": "execute_result"
    }
   ],
   "source": [
    "gce_df['gce_units'].sum()"
   ]
  },
  {
   "cell_type": "code",
   "execution_count": 38,
   "metadata": {},
   "outputs": [
    {
     "data": {
      "text/html": [
       "<div>\n",
       "<style scoped>\n",
       "    .dataframe tbody tr th:only-of-type {\n",
       "        vertical-align: middle;\n",
       "    }\n",
       "\n",
       "    .dataframe tbody tr th {\n",
       "        vertical-align: top;\n",
       "    }\n",
       "\n",
       "    .dataframe thead th {\n",
       "        text-align: right;\n",
       "    }\n",
       "</style>\n",
       "<table border=\"1\" class=\"dataframe\">\n",
       "  <thead>\n",
       "    <tr style=\"text-align: right;\">\n",
       "      <th></th>\n",
       "      <th>bbl</th>\n",
       "      <th>address</th>\n",
       "      <th>borough</th>\n",
       "      <th>unitsres</th>\n",
       "      <th>rs_units</th>\n",
       "      <th>yearbuilt</th>\n",
       "      <th>bldgclass</th>\n",
       "      <th>ownername</th>\n",
       "      <th>wow_link</th>\n",
       "      <th>latitude</th>\n",
       "      <th>longitude</th>\n",
       "      <th>gce_units</th>\n",
       "    </tr>\n",
       "  </thead>\n",
       "  <tbody>\n",
       "    <tr>\n",
       "      <th>0</th>\n",
       "      <td>3051020063</td>\n",
       "      <td>2101 ALBEMARLE ROAD</td>\n",
       "      <td>BK</td>\n",
       "      <td>94</td>\n",
       "      <td>0</td>\n",
       "      <td>1939</td>\n",
       "      <td>D1</td>\n",
       "      <td>2101 ALBERMARLE INC</td>\n",
       "      <td>https://whoownswhat.justfix.org/bbl/3051020063</td>\n",
       "      <td>40.647685</td>\n",
       "      <td>-73.959027</td>\n",
       "      <td>94</td>\n",
       "    </tr>\n",
       "    <tr>\n",
       "      <th>1</th>\n",
       "      <td>3024310036</td>\n",
       "      <td>151 SOUTH 4 STREET</td>\n",
       "      <td>BK</td>\n",
       "      <td>25</td>\n",
       "      <td>0</td>\n",
       "      <td>1906</td>\n",
       "      <td>C6</td>\n",
       "      <td>149 SOUTH 4TH STREET HOUSING DEV</td>\n",
       "      <td>https://whoownswhat.justfix.org/bbl/3024310036</td>\n",
       "      <td>40.711812</td>\n",
       "      <td>-73.962064</td>\n",
       "      <td>25</td>\n",
       "    </tr>\n",
       "    <tr>\n",
       "      <th>2</th>\n",
       "      <td>1005830024</td>\n",
       "      <td>40 MORTON STREET</td>\n",
       "      <td>MN</td>\n",
       "      <td>15</td>\n",
       "      <td>0</td>\n",
       "      <td>1887</td>\n",
       "      <td>C4</td>\n",
       "      <td>SKYJAM HOLDING, LLC</td>\n",
       "      <td>https://whoownswhat.justfix.org/bbl/1005830024</td>\n",
       "      <td>40.730644</td>\n",
       "      <td>-74.005142</td>\n",
       "      <td>15</td>\n",
       "    </tr>\n",
       "    <tr>\n",
       "      <th>3</th>\n",
       "      <td>1014990010</td>\n",
       "      <td>11 EAST 87 STREET</td>\n",
       "      <td>MN</td>\n",
       "      <td>85</td>\n",
       "      <td>0</td>\n",
       "      <td>1954</td>\n",
       "      <td>D4</td>\n",
       "      <td>11 EAST 87TH ST TENANTS CORP</td>\n",
       "      <td>https://whoownswhat.justfix.org/bbl/1014990010</td>\n",
       "      <td>40.781969</td>\n",
       "      <td>-73.958767</td>\n",
       "      <td>85</td>\n",
       "    </tr>\n",
       "    <tr>\n",
       "      <th>4</th>\n",
       "      <td>1005670007</td>\n",
       "      <td>33 5 AVENUE</td>\n",
       "      <td>MN</td>\n",
       "      <td>60</td>\n",
       "      <td>0</td>\n",
       "      <td>1923</td>\n",
       "      <td>D4</td>\n",
       "      <td>33 FIFTH AVE OWNERS</td>\n",
       "      <td>https://whoownswhat.justfix.org/bbl/1005670007</td>\n",
       "      <td>40.733172</td>\n",
       "      <td>-73.995280</td>\n",
       "      <td>60</td>\n",
       "    </tr>\n",
       "  </tbody>\n",
       "</table>\n",
       "</div>"
      ],
      "text/plain": [
       "          bbl              address borough  unitsres  rs_units  yearbuilt  \\\n",
       "0  3051020063  2101 ALBEMARLE ROAD      BK        94         0       1939   \n",
       "1  3024310036   151 SOUTH 4 STREET      BK        25         0       1906   \n",
       "2  1005830024     40 MORTON STREET      MN        15         0       1887   \n",
       "3  1014990010    11 EAST 87 STREET      MN        85         0       1954   \n",
       "4  1005670007          33 5 AVENUE      MN        60         0       1923   \n",
       "\n",
       "  bldgclass                         ownername  \\\n",
       "0        D1               2101 ALBERMARLE INC   \n",
       "1        C6  149 SOUTH 4TH STREET HOUSING DEV   \n",
       "2        C4               SKYJAM HOLDING, LLC   \n",
       "3        D4      11 EAST 87TH ST TENANTS CORP   \n",
       "4        D4               33 FIFTH AVE OWNERS   \n",
       "\n",
       "                                         wow_link   latitude  longitude  \\\n",
       "0  https://whoownswhat.justfix.org/bbl/3051020063  40.647685 -73.959027   \n",
       "1  https://whoownswhat.justfix.org/bbl/3024310036  40.711812 -73.962064   \n",
       "2  https://whoownswhat.justfix.org/bbl/1005830024  40.730644 -74.005142   \n",
       "3  https://whoownswhat.justfix.org/bbl/1014990010  40.781969 -73.958767   \n",
       "4  https://whoownswhat.justfix.org/bbl/1005670007  40.733172 -73.995280   \n",
       "\n",
       "   gce_units  \n",
       "0         94  \n",
       "1         25  \n",
       "2         15  \n",
       "3         85  \n",
       "4         60  "
      ]
     },
     "execution_count": 38,
     "metadata": {},
     "output_type": "execute_result"
    }
   ],
   "source": [
    "gce_df.head()"
   ]
  },
  {
   "cell_type": "code",
   "execution_count": null,
   "metadata": {},
   "outputs": [],
   "source": []
  }
 ],
 "metadata": {
  "kernelspec": {
   "display_name": "venv",
   "language": "python",
   "name": "python3"
  },
  "language_info": {
   "codemirror_mode": {
    "name": "ipython",
    "version": 3
   },
   "file_extension": ".py",
   "mimetype": "text/x-python",
   "name": "python",
   "nbconvert_exporter": "python",
   "pygments_lexer": "ipython3",
   "version": "3.12.4"
  }
 },
 "nbformat": 4,
 "nbformat_minor": 2
}
